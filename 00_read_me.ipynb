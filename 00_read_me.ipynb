{
 "cells": [
  {
   "cell_type": "markdown",
   "id": "90f3bfdd-cd07-4c94-b017-56bc037d1765",
   "metadata": {},
   "source": [
    "## 01_general_data"
   ]
  },
  {
   "cell_type": "markdown",
   "id": "e81cba97-7317-40d0-8a7d-9edb215cbd22",
   "metadata": {},
   "source": [
    "##### This notebook takes some information from multiple raw data files to create a dataframe with the following columns:\n",
    "##### -Season - the NCAA basketball season in the form of calendar year\n",
    "##### -Seed - the team seed in the NCAA tournament, ranging from 1 to 16\n",
    "##### -TeamID - a unique identifier of each team, which is included in each raw data set\n",
    "##### -RankingDayNum - the day number after which season the begins. Only data for Day 133 is retained in the dataframe, which corresponds to the day before the tournament begins.\n",
    "##### -SystemName - the abbreviation of the name of the ranking system\n",
    "##### -OrdinalRank - the team rank assigned by the corresponding ranking system\n",
    "##### -Wins - regular season wins\n",
    "##### -Losses - regular season losses\n",
    "##### -Win% - regular season winning percentage\n",
    "##### -T_Wins - number of tournament wins, ranging from 0-6\n"
   ]
  },
  {
   "cell_type": "markdown",
   "id": "73761482-97df-4e87-8a4b-f69be4a5d8ec",
   "metadata": {},
   "source": [
    "### Raw data files imported"
   ]
  },
  {
   "cell_type": "markdown",
   "id": "5e396303-a9d3-4fbb-8eb1-d9193f75c5be",
   "metadata": {},
   "source": [
    "##### MTeams.csv\n",
    "##### MMasseyOrdinals.csv\n",
    "##### MNCAATourneySeeds.csv\n",
    "##### MRegularSeasonCompactResults.csv\n",
    "##### MNCAATourneyCompactResults.csv"
   ]
  },
  {
   "cell_type": "markdown",
   "id": "ea77b9b0-3964-4d11-9095-731e002aa844",
   "metadata": {},
   "source": [
    "### Dataframes imported"
   ]
  },
  {
   "cell_type": "markdown",
   "id": "996117b6-d474-48b6-a2dc-d2442da517f0",
   "metadata": {},
   "source": [
    "##### n/a"
   ]
  },
  {
   "cell_type": "markdown",
   "id": "8f2b9731-081a-4d8d-8980-5a49ae615200",
   "metadata": {},
   "source": [
    "### Dataframes exported"
   ]
  },
  {
   "cell_type": "markdown",
   "id": "6725fc05-e75d-4ad0-9ac3-6bf691024e0c",
   "metadata": {},
   "source": [
    "#### team_data.csv"
   ]
  },
  {
   "cell_type": "markdown",
   "id": "7967545a-4ac2-4de3-b6cd-8230bf42afd3",
   "metadata": {},
   "source": [
    "### 02_regular_season_data_clean"
   ]
  },
  {
   "cell_type": "markdown",
   "id": "ffeb9694-e735-4498-85e4-4e55dea9aade",
   "metadata": {},
   "source": [
    "##### This notebook takes data from a raw data file in the form of every regular season game played. The basketball stats are aggregated to calculate season-long stats. These season-long stats are compiled in a dataframe with the following columns:\n",
    "##### -Season - the NCAA basketball season in the form of calendar year\n",
    "##### -TeamID - a unique identifier of each team, which is included in each raw data set.\n",
    "\n",
    "##### -FGM - Field Goals Made \n",
    "##### -FGM_Ag - Field Goals Against \n",
    "##### -FGM_pg - Field Goals Made per game\n",
    "##### -FGM_Ag_pg - Field Goals Made Against per game\n",
    "##### -FGA - Field Goals Attempted \n",
    "##### -FGA_Ag - Field Goals Attempted Against \n",
    "##### -FG% - Field Goal Percentage \n",
    "##### -FG%_Ag - Field Goal Percentage Against\n",
    "\n",
    "##### -FGM3 - 3-pointers Made \n",
    "##### -FGM3_Ag - 3-pointers Against \n",
    "##### -FGM3_pg - 3-pointers per game\n",
    "##### -FGM3_Ag_pg - 3-pointers Against per game\n",
    "##### -FGA3 - 3-pointers Attempted \n",
    "##### -FGA3_Ag - 3-pointers Attempted Against \n",
    "##### -FG3% - 3-pointer Percentage \n",
    "##### -FG3%_Ag - 3-pointer Percentage Against\n",
    "\n",
    "##### -FTM - Free Throws Made \n",
    "##### -FTM_Ag - Free Throws Against \n",
    "##### -FTM_pg - Free Throws per game\n",
    "##### -FTM_Ag_pg - Free Throws Against per game\n",
    "##### -FTA - Free Throws Attempted \n",
    "##### -FTA_Ag - Free Throws Attempted Against \n",
    "##### -FTA_pg - Free Throws Attempted per game\n",
    "##### -FTA_Ag-pg - Free Throws Attempted Against per game\n",
    "##### -FT% - Free Throws Percentage \n",
    "\n",
    "##### -OR - Offensive Rebounds \n",
    "##### -OR_Ag - Offensive Rebounds Against \n",
    "##### -OR_pg - Offensive Rebounds per game\n",
    "##### -OR_Ag_pg - Offensive Rebounds Against per game\n",
    "\n",
    "##### -DR - Defensive Rebounds \n",
    "##### -DR_Ag - Defensive Rebounds Against \n",
    "##### -DR_pg - Defensive Rebounds per game\n",
    "##### -DR_Ag_pg - Defensive Rebounds Against per game\n",
    "\n",
    "##### -Ast - Assists\n",
    "##### -Ast_Ag - Assists Against \n",
    "##### -Ast_pg - Assists per game\n",
    "##### -Ast_Ag_pg - Assists Against per game\n",
    "\n",
    "##### -TO - Turnovers \n",
    "##### -TO_Ag - Turnovers Against \n",
    "##### -TO_pg - Turnovers per game\n",
    "##### -TO_Ag_pg - Turnovers Against per game\n",
    "\n",
    "##### -Stl - Steals\n",
    "##### -Stl_Ag - Steals Against \n",
    "##### -Stl_pg - Steals per game\n",
    "##### -Stl_Ag_pg - Steals Against per game\n",
    "\n",
    "##### -Blk - Blocks\n",
    "##### -Blk_Ag - Blocks Against \n",
    "##### -Blk_pg - Blocks per game\n",
    "##### -Blk_Ag_pg - Blocks Against per game\n",
    "\n",
    "##### -PF - Personal Fouls\n",
    "##### -PF_Ag - Personal Fouls Against \n",
    "##### -PF_pg - Personal Fouls per game\n",
    "##### -PF_Ag_pg - Personal Fouls Against per game"
   ]
  },
  {
   "cell_type": "markdown",
   "id": "f8cb01a0-216d-4c64-99c9-2dbd943e6b14",
   "metadata": {},
   "source": [
    "### Raw data files imported"
   ]
  },
  {
   "cell_type": "markdown",
   "id": "72e9d4da-454b-44d7-bb12-1d195a1deb04",
   "metadata": {},
   "source": [
    "#### MRegularSeasonDetailedResults.csv"
   ]
  },
  {
   "cell_type": "markdown",
   "id": "837efb55-72a0-4be4-a892-6a98790b5b8a",
   "metadata": {},
   "source": [
    "### Dataframes imported"
   ]
  },
  {
   "cell_type": "markdown",
   "id": "e982b939-e4a4-4fbe-b2cd-9d3ccc527c1c",
   "metadata": {},
   "source": [
    "##### n/a"
   ]
  },
  {
   "cell_type": "markdown",
   "id": "8fb02ce5-8400-40e1-ae73-d56249afaccb",
   "metadata": {},
   "source": [
    "### Dataframes exported"
   ]
  },
  {
   "cell_type": "markdown",
   "id": "a48f497c-4e66-421a-870c-81a6aed2c716",
   "metadata": {},
   "source": [
    "#### season_stats.csv"
   ]
  },
  {
   "cell_type": "markdown",
   "id": "1502e7f1-14c1-47d5-a42e-81eed44cad70",
   "metadata": {},
   "source": [
    "## 03_rankings_FE"
   ]
  },
  {
   "cell_type": "markdown",
   "id": "2c14f572-7b90-4864-975c-cc04ebe67fb3",
   "metadata": {},
   "source": [
    "##### This notebook is used to determine which ranking systems to include in the final model. The chosen ranking systems are included in separate columns.\n",
    "##### In addition to the data from the team_data dataframe from notebook 01_general_data, with the following exceptions:\n",
    "#### the following columns are included in the created dataframe.\n",
    "##### - Rank_MOR - The ordinal rank of the Moore rankings system\n",
    "##### - Rank_POM - The ordinal rank of the Pomeroy rankings system\n",
    "##### - Rank_SAG - The ordinal rank of the Sagarin rankings system\n",
    "##### - Rank_COL - The ordinal rank of the Colley rankings system\n",
    "##### - Rank_DOL - The ordinal rank of the Dolphin rankings system\n",
    "##### - Rank_WLK - The ordinal rank of the MOR rankings system\n",
    "#### the following columns are dropped from the created dataframe.\n",
    "##### -RankingDayNum - the day number after which season the begins. Only data for Day 133 is retained in the dataframe, which corresponds to the day before the tournament begins.\n",
    "##### -SystemName - the abbreviation of the name of the ranking system\n",
    "##### -OrdinalRank - the team rank assigned by the corresponding ranking system"
   ]
  },
  {
   "cell_type": "markdown",
   "id": "4352a25c-07b5-42fc-a4d1-ac9ff44ef4b8",
   "metadata": {},
   "source": [
    "### Raw data files imported"
   ]
  },
  {
   "cell_type": "markdown",
   "id": "0ec2a408-4568-4505-9312-aac69be3312b",
   "metadata": {},
   "source": [
    "#### n/a"
   ]
  },
  {
   "cell_type": "markdown",
   "id": "815c1c6a-660b-4c0e-873c-e7f77e178aed",
   "metadata": {},
   "source": [
    "### Dataframes imported"
   ]
  },
  {
   "cell_type": "markdown",
   "id": "71ea0f60-3246-4eff-92e4-0f206a383619",
   "metadata": {},
   "source": [
    "#### team_data.csv"
   ]
  },
  {
   "cell_type": "markdown",
   "id": "4c5361a3-a729-48da-9792-93c64c23f6d6",
   "metadata": {},
   "source": [
    "### Dataframes exported"
   ]
  },
  {
   "cell_type": "markdown",
   "id": "8ae364f0-af11-4b91-b9fb-774f898899d1",
   "metadata": {},
   "source": [
    "#### team_data_clean.csv"
   ]
  },
  {
   "cell_type": "markdown",
   "id": "e541db24-4f2d-4807-8fb4-e956c1380e1a",
   "metadata": {},
   "source": [
    "## 04_final_data_frame"
   ]
  },
  {
   "cell_type": "markdown",
   "id": "8442f32d-9a88-44bc-a790-32d32de186a7",
   "metadata": {},
   "source": [
    "##### In this notebook, the two dataframes created in the previous notebooks (team_data_clean from notebook 03_rankings_FE and season_stats from notebook 02_regular_season_data_clean).\n",
    "##### All columns from these two dataframes are retained."
   ]
  },
  {
   "cell_type": "markdown",
   "id": "fe54b6c1-4bea-4669-b34d-19075d261243",
   "metadata": {},
   "source": [
    "### Raw data files imported"
   ]
  },
  {
   "cell_type": "markdown",
   "id": "9e60367f-9b74-4c3f-9d7f-fab5bcd4b165",
   "metadata": {},
   "source": [
    "#### n/a"
   ]
  },
  {
   "cell_type": "markdown",
   "id": "0b6fe6dc-d6c4-4401-8b54-d48a42ec88ce",
   "metadata": {},
   "source": [
    "### Dataframes imported"
   ]
  },
  {
   "cell_type": "markdown",
   "id": "ccaa12c4-a857-47a2-9a5f-64527911cc0d",
   "metadata": {},
   "source": [
    "#### team_data_clean.csv\n",
    "#### season_stats.csv"
   ]
  },
  {
   "cell_type": "markdown",
   "id": "10a11b63-45f0-4330-b8ed-62ac722bede0",
   "metadata": {},
   "source": [
    "### Dataframes exported"
   ]
  },
  {
   "cell_type": "markdown",
   "id": "5be516a4-5fd4-4fb0-8acd-31825d48631b",
   "metadata": {},
   "source": [
    "#### final_df.csv"
   ]
  },
  {
   "cell_type": "markdown",
   "id": "26a928fb-93bd-4446-ae91-79d6fe11f1ea",
   "metadata": {},
   "source": [
    "## 05_EDA"
   ]
  },
  {
   "cell_type": "markdown",
   "id": "13150d08-f59f-483a-87f8-4d4f0e272ed4",
   "metadata": {},
   "source": [
    "##### This notebook contains exploratory data analysis. "
   ]
  },
  {
   "cell_type": "markdown",
   "id": "bfccb38f-4cc4-420b-bec0-8fa98978c63a",
   "metadata": {},
   "source": [
    "## 06_model_final"
   ]
  },
  {
   "cell_type": "markdown",
   "id": "8a1a8672-7c24-435d-a91e-089767f2a65e",
   "metadata": {},
   "source": [
    "##### In this notebook, an appropriate classification model type (Random Forest) is selected.\n",
    "##### the final_df.csv dataframe is imported from notebook 04_final_data_frame.\n",
    "##### The data is normalized and scaled and oversampled due to class imbalance.\n",
    "##### The model is evaluated compared to historical NCAA bracketology data"
   ]
  },
  {
   "cell_type": "code",
   "execution_count": null,
   "id": "e585aeb5-a7dc-4d42-a068-46e9da5e8115",
   "metadata": {},
   "outputs": [],
   "source": []
  }
 ],
 "metadata": {
  "kernelspec": {
   "display_name": "Python 3",
   "language": "python",
   "name": "python3"
  },
  "language_info": {
   "codemirror_mode": {
    "name": "ipython",
    "version": 3
   },
   "file_extension": ".py",
   "mimetype": "text/x-python",
   "name": "python",
   "nbconvert_exporter": "python",
   "pygments_lexer": "ipython3",
   "version": "3.8.8"
  }
 },
 "nbformat": 4,
 "nbformat_minor": 5
}
