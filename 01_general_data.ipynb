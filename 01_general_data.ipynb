{
 "cells": [
  {
   "cell_type": "code",
   "execution_count": 28,
   "id": "51ea0d4a-4caa-43b5-80a7-765801fccdd4",
   "metadata": {},
   "outputs": [],
   "source": [
    "import numpy as np\n",
    "import pandas as pd\n",
    "import matplotlib.pyplot as plt\n",
    "import seaborn as sns\n",
    "import scipy.stats as stats"
   ]
  },
  {
   "cell_type": "markdown",
   "id": "248185c2-56c6-4a01-b683-51a19ca5bbf7",
   "metadata": {},
   "source": [
    "##### Create Table of Team Names and Team IDs. The TeamID column will be used to join the other data tables into a single dataframe."
   ]
  },
  {
   "cell_type": "code",
   "execution_count": 29,
   "id": "ffa51524-0953-40a6-b5b1-9e2c536f10b9",
   "metadata": {},
   "outputs": [
    {
     "data": {
      "text/html": [
       "<div>\n",
       "<style scoped>\n",
       "    .dataframe tbody tr th:only-of-type {\n",
       "        vertical-align: middle;\n",
       "    }\n",
       "\n",
       "    .dataframe tbody tr th {\n",
       "        vertical-align: top;\n",
       "    }\n",
       "\n",
       "    .dataframe thead th {\n",
       "        text-align: right;\n",
       "    }\n",
       "</style>\n",
       "<table border=\"1\" class=\"dataframe\">\n",
       "  <thead>\n",
       "    <tr style=\"text-align: right;\">\n",
       "      <th></th>\n",
       "      <th>TeamID</th>\n",
       "      <th>TeamName</th>\n",
       "    </tr>\n",
       "  </thead>\n",
       "  <tbody>\n",
       "    <tr>\n",
       "      <th>0</th>\n",
       "      <td>1101</td>\n",
       "      <td>Abilene Chr</td>\n",
       "    </tr>\n",
       "    <tr>\n",
       "      <th>1</th>\n",
       "      <td>1102</td>\n",
       "      <td>Air Force</td>\n",
       "    </tr>\n",
       "    <tr>\n",
       "      <th>2</th>\n",
       "      <td>1103</td>\n",
       "      <td>Akron</td>\n",
       "    </tr>\n",
       "    <tr>\n",
       "      <th>3</th>\n",
       "      <td>1104</td>\n",
       "      <td>Alabama</td>\n",
       "    </tr>\n",
       "    <tr>\n",
       "      <th>4</th>\n",
       "      <td>1105</td>\n",
       "      <td>Alabama A&amp;M</td>\n",
       "    </tr>\n",
       "    <tr>\n",
       "      <th>...</th>\n",
       "      <td>...</td>\n",
       "      <td>...</td>\n",
       "    </tr>\n",
       "    <tr>\n",
       "      <th>367</th>\n",
       "      <td>1468</td>\n",
       "      <td>Bellarmine</td>\n",
       "    </tr>\n",
       "    <tr>\n",
       "      <th>368</th>\n",
       "      <td>1469</td>\n",
       "      <td>Dixie St</td>\n",
       "    </tr>\n",
       "    <tr>\n",
       "      <th>369</th>\n",
       "      <td>1470</td>\n",
       "      <td>Tarleton St</td>\n",
       "    </tr>\n",
       "    <tr>\n",
       "      <th>370</th>\n",
       "      <td>1471</td>\n",
       "      <td>UC San Diego</td>\n",
       "    </tr>\n",
       "    <tr>\n",
       "      <th>371</th>\n",
       "      <td>1472</td>\n",
       "      <td>St Thomas MN</td>\n",
       "    </tr>\n",
       "  </tbody>\n",
       "</table>\n",
       "<p>372 rows × 2 columns</p>\n",
       "</div>"
      ],
      "text/plain": [
       "     TeamID      TeamName\n",
       "0      1101   Abilene Chr\n",
       "1      1102     Air Force\n",
       "2      1103         Akron\n",
       "3      1104       Alabama\n",
       "4      1105   Alabama A&M\n",
       "..      ...           ...\n",
       "367    1468    Bellarmine\n",
       "368    1469      Dixie St\n",
       "369    1470   Tarleton St\n",
       "370    1471  UC San Diego\n",
       "371    1472  St Thomas MN\n",
       "\n",
       "[372 rows x 2 columns]"
      ]
     },
     "execution_count": 29,
     "metadata": {},
     "output_type": "execute_result"
    }
   ],
   "source": [
    "teams = pd.read_csv(\"data/MTeams.csv\")\n",
    "teams.drop(['FirstD1Season', 'LastD1Season'], axis=1, inplace=True)\n",
    "teams"
   ]
  },
  {
   "cell_type": "markdown",
   "id": "d1305921-4227-4ebc-91ba-4ad6e2f11cd7",
   "metadata": {},
   "source": [
    "#### Import data table that shows the ranking of each team according to various ranking systems at various points in the season. Only RankingDayNum = 133, which corresponds to the day before the tournament begins. The imported data includes a column called SystemName, which includes all the ranking systems."
   ]
  },
  {
   "cell_type": "code",
   "execution_count": 30,
   "id": "873a950a-07b9-477f-ae16-8acb96bef5b3",
   "metadata": {},
   "outputs": [],
   "source": [
    "rankings = pd.read_csv(\"data/MMasseyOrdinals.csv\")\n",
    "rankings = rankings[rankings['RankingDayNum'] == 133]\n",
    "#rankings\n",
    "#rankings[rankings['SystemName']=='POM']"
   ]
  },
  {
   "cell_type": "markdown",
   "id": "89bda2e9-5c60-46b3-a9a2-800a91595cc5",
   "metadata": {},
   "source": [
    "#### Merge the team table with the rankings table to get the team name with the rankings"
   ]
  },
  {
   "cell_type": "code",
   "execution_count": 31,
   "id": "7005d7c8-cee0-4556-9971-fc08e1db3ee3",
   "metadata": {},
   "outputs": [],
   "source": [
    "team_data = teams.merge(rankings, how='inner', on='TeamID')"
   ]
  },
  {
   "cell_type": "markdown",
   "id": "70cb2852-0dda-40d1-b75d-3d5aac1b5439",
   "metadata": {},
   "source": [
    "#### Import data table that shows the seed number of each team of each tournament. Remove all leading or trailing letters (which denote conference) from the Seed column and convert to integer"
   ]
  },
  {
   "cell_type": "code",
   "execution_count": 32,
   "id": "bff7f7d7-ee5a-422d-8571-ea1724af2e90",
   "metadata": {},
   "outputs": [
    {
     "data": {
      "text/html": [
       "<div>\n",
       "<style scoped>\n",
       "    .dataframe tbody tr th:only-of-type {\n",
       "        vertical-align: middle;\n",
       "    }\n",
       "\n",
       "    .dataframe tbody tr th {\n",
       "        vertical-align: top;\n",
       "    }\n",
       "\n",
       "    .dataframe thead th {\n",
       "        text-align: right;\n",
       "    }\n",
       "</style>\n",
       "<table border=\"1\" class=\"dataframe\">\n",
       "  <thead>\n",
       "    <tr style=\"text-align: right;\">\n",
       "      <th></th>\n",
       "      <th>Season</th>\n",
       "      <th>Seed</th>\n",
       "      <th>TeamID</th>\n",
       "    </tr>\n",
       "  </thead>\n",
       "  <tbody>\n",
       "    <tr>\n",
       "      <th>0</th>\n",
       "      <td>1985</td>\n",
       "      <td>1</td>\n",
       "      <td>1207</td>\n",
       "    </tr>\n",
       "    <tr>\n",
       "      <th>1</th>\n",
       "      <td>1985</td>\n",
       "      <td>2</td>\n",
       "      <td>1210</td>\n",
       "    </tr>\n",
       "    <tr>\n",
       "      <th>2</th>\n",
       "      <td>1985</td>\n",
       "      <td>3</td>\n",
       "      <td>1228</td>\n",
       "    </tr>\n",
       "    <tr>\n",
       "      <th>3</th>\n",
       "      <td>1985</td>\n",
       "      <td>4</td>\n",
       "      <td>1260</td>\n",
       "    </tr>\n",
       "    <tr>\n",
       "      <th>4</th>\n",
       "      <td>1985</td>\n",
       "      <td>5</td>\n",
       "      <td>1374</td>\n",
       "    </tr>\n",
       "    <tr>\n",
       "      <th>...</th>\n",
       "      <td>...</td>\n",
       "      <td>...</td>\n",
       "      <td>...</td>\n",
       "    </tr>\n",
       "    <tr>\n",
       "      <th>2349</th>\n",
       "      <td>2021</td>\n",
       "      <td>12</td>\n",
       "      <td>1457</td>\n",
       "    </tr>\n",
       "    <tr>\n",
       "      <th>2350</th>\n",
       "      <td>2021</td>\n",
       "      <td>13</td>\n",
       "      <td>1317</td>\n",
       "    </tr>\n",
       "    <tr>\n",
       "      <th>2351</th>\n",
       "      <td>2021</td>\n",
       "      <td>14</td>\n",
       "      <td>1159</td>\n",
       "    </tr>\n",
       "    <tr>\n",
       "      <th>2352</th>\n",
       "      <td>2021</td>\n",
       "      <td>15</td>\n",
       "      <td>1331</td>\n",
       "    </tr>\n",
       "    <tr>\n",
       "      <th>2353</th>\n",
       "      <td>2021</td>\n",
       "      <td>16</td>\n",
       "      <td>1216</td>\n",
       "    </tr>\n",
       "  </tbody>\n",
       "</table>\n",
       "<p>2354 rows × 3 columns</p>\n",
       "</div>"
      ],
      "text/plain": [
       "      Season  Seed  TeamID\n",
       "0       1985     1    1207\n",
       "1       1985     2    1210\n",
       "2       1985     3    1228\n",
       "3       1985     4    1260\n",
       "4       1985     5    1374\n",
       "...      ...   ...     ...\n",
       "2349    2021    12    1457\n",
       "2350    2021    13    1317\n",
       "2351    2021    14    1159\n",
       "2352    2021    15    1331\n",
       "2353    2021    16    1216\n",
       "\n",
       "[2354 rows x 3 columns]"
      ]
     },
     "execution_count": 32,
     "metadata": {},
     "output_type": "execute_result"
    }
   ],
   "source": [
    "seeds = pd.read_csv(\"data/MNCAATourneySeeds.csv\")\n",
    "seeds.dropna()\n",
    "seeds['Seed'] = seeds['Seed'].str[1:]\n",
    "seeds['Seed'] = seeds['Seed'].str.lstrip('0')\n",
    "seeds['Seed'] = seeds['Seed'].str.rstrip('abcd')\n",
    "seeds['Seed'] = seeds['Seed'].astype(int)\n",
    "seeds"
   ]
  },
  {
   "cell_type": "markdown",
   "id": "00715d7d-5dac-4f8c-9219-29e6af663d4b",
   "metadata": {},
   "source": [
    "#### Merge team data table with seeds table. This will eliminate all of the rows of teams that did not make the NCAA tournament in a given year."
   ]
  },
  {
   "cell_type": "code",
   "execution_count": 33,
   "id": "26e728d1-cd79-4be2-927c-74bcd7ffada8",
   "metadata": {},
   "outputs": [],
   "source": [
    "team_data = seeds.merge(team_data, how='inner', on=['TeamID', 'Season'])"
   ]
  },
  {
   "cell_type": "markdown",
   "id": "f7d759a0-de36-4454-a3ab-d543960ccc83",
   "metadata": {},
   "source": [
    "#### Get Regular Season Win-Loss Record"
   ]
  },
  {
   "cell_type": "code",
   "execution_count": 34,
   "id": "c5378ae3-47d9-4730-b3f3-ccc115d0f6de",
   "metadata": {},
   "outputs": [],
   "source": [
    "record = pd.read_csv(\"data/MRegularSeasonCompactResults.csv\")\n",
    "record = record.drop(['DayNum', 'WScore', 'LScore', 'WLoc', 'NumOT'], axis=1)\n",
    "wins= record.groupby(['Season', 'WTeamID']).count()\n",
    "wins = wins.rename(columns={'WTeamID':'TeamID', 'LTeamID': 'Wins'})\n",
    "losses = record.groupby(['Season', 'LTeamID']).count()\n",
    "losses = losses.rename(columns={'LTeamID':'TeamID', 'WTeamID': 'Losses'})\n",
    "wins=wins['Wins']\n",
    "losses=losses['Losses']"
   ]
  },
  {
   "cell_type": "markdown",
   "id": "c566dd70-9a54-43b4-848a-aafc4fd7d94c",
   "metadata": {},
   "source": [
    "#### Merge number of wins and number of losses to the main team data df"
   ]
  },
  {
   "cell_type": "code",
   "execution_count": 35,
   "id": "2f9250c2-79ad-4682-bbe5-51370f890f87",
   "metadata": {},
   "outputs": [],
   "source": [
    "team_data = pd.merge(team_data, wins, left_on=['TeamID', 'Season'], right_on=['WTeamID', 'Season'])\n",
    "team_data = pd.merge(team_data, losses, left_on=['TeamID', 'Season'], right_on=['LTeamID', 'Season'])"
   ]
  },
  {
   "cell_type": "markdown",
   "id": "a9a5c9a2-be16-4982-9ac9-f696baafa671",
   "metadata": {},
   "source": [
    "#### Create Win% Column"
   ]
  },
  {
   "cell_type": "code",
   "execution_count": 36,
   "id": "4529902c-be53-48a3-85ed-ddbab0ccbb6c",
   "metadata": {},
   "outputs": [],
   "source": [
    "team_data[\"Win%\"]=round(team_data[\"Wins\"]/(team_data[\"Wins\"]+team_data[\"Losses\"])*100,4)"
   ]
  },
  {
   "cell_type": "markdown",
   "id": "b865a254-576d-4cb4-a36a-36462a946dad",
   "metadata": {},
   "source": [
    "#### Get Tournament Win-Loss Record. Count how many games a team won in a given season. The number of wins is the target feature and will be added to the main team data dataframe."
   ]
  },
  {
   "cell_type": "code",
   "execution_count": 37,
   "id": "4bcbf24a-57d6-4f78-9101-4534baeaeab3",
   "metadata": {},
   "outputs": [],
   "source": [
    "tourney= pd.read_csv(\"data/MNCAATourneyCompactResults.csv\")\n",
    "tourney = tourney.drop(['DayNum', 'WScore', 'LScore', 'WLoc', 'NumOT'], axis=1)\n",
    "t_wins= tourney.groupby(['Season', 'WTeamID']).count()\n",
    "t_wins = t_wins.rename(columns={'WTeamID':'TeamID', 'LTeamID': 'T_Wins'})\n",
    "t_wins=t_wins['T_Wins']"
   ]
  },
  {
   "cell_type": "markdown",
   "id": "0868be47-de54-4c7f-b904-e5153f104b20",
   "metadata": {},
   "source": [
    "#### Merge number of tournament wins to df. This will be the target feature"
   ]
  },
  {
   "cell_type": "code",
   "execution_count": 38,
   "id": "aa94d0ea-705e-4684-babb-091f3e6db539",
   "metadata": {},
   "outputs": [],
   "source": [
    "team_data = pd.merge(team_data, t_wins, how='left', left_on=['TeamID', 'Season'], right_on=['WTeamID', 'Season'])\n"
   ]
  },
  {
   "cell_type": "markdown",
   "id": "532af008-7ea3-4100-bdfc-d2eb9f2789bd",
   "metadata": {},
   "source": [
    "#### Replace NaN with 0's for teams without a win (Teams that lost in the first round)"
   ]
  },
  {
   "cell_type": "code",
   "execution_count": 39,
   "id": "37889434-491e-4016-8958-41e6e274305d",
   "metadata": {},
   "outputs": [],
   "source": [
    "team_data[\"T_Wins\"] = team_data[\"T_Wins\"].replace(np.nan, 0)"
   ]
  },
  {
   "cell_type": "code",
   "execution_count": 40,
   "id": "adce2a14-573a-4eca-bfd8-a61d39411d68",
   "metadata": {},
   "outputs": [],
   "source": [
    "team_data.to_csv('team_data.csv')"
   ]
  },
  {
   "cell_type": "code",
   "execution_count": 41,
   "id": "5c1ae465-50af-469c-ba1f-19c5293d658d",
   "metadata": {},
   "outputs": [
    {
     "data": {
      "text/html": [
       "<div>\n",
       "<style scoped>\n",
       "    .dataframe tbody tr th:only-of-type {\n",
       "        vertical-align: middle;\n",
       "    }\n",
       "\n",
       "    .dataframe tbody tr th {\n",
       "        vertical-align: top;\n",
       "    }\n",
       "\n",
       "    .dataframe thead th {\n",
       "        text-align: right;\n",
       "    }\n",
       "</style>\n",
       "<table border=\"1\" class=\"dataframe\">\n",
       "  <thead>\n",
       "    <tr style=\"text-align: right;\">\n",
       "      <th></th>\n",
       "      <th>Season</th>\n",
       "      <th>Seed</th>\n",
       "      <th>TeamID</th>\n",
       "      <th>TeamName</th>\n",
       "      <th>RankingDayNum</th>\n",
       "      <th>SystemName</th>\n",
       "      <th>OrdinalRank</th>\n",
       "      <th>Wins</th>\n",
       "      <th>Losses</th>\n",
       "      <th>Win%</th>\n",
       "      <th>T_Wins</th>\n",
       "    </tr>\n",
       "  </thead>\n",
       "  <tbody>\n",
       "    <tr>\n",
       "      <th>0</th>\n",
       "      <td>2003</td>\n",
       "      <td>1</td>\n",
       "      <td>1328</td>\n",
       "      <td>Oklahoma</td>\n",
       "      <td>133</td>\n",
       "      <td>AP</td>\n",
       "      <td>3</td>\n",
       "      <td>24</td>\n",
       "      <td>6</td>\n",
       "      <td>80.0000</td>\n",
       "      <td>3.0</td>\n",
       "    </tr>\n",
       "    <tr>\n",
       "      <th>1</th>\n",
       "      <td>2003</td>\n",
       "      <td>1</td>\n",
       "      <td>1328</td>\n",
       "      <td>Oklahoma</td>\n",
       "      <td>133</td>\n",
       "      <td>ARG</td>\n",
       "      <td>5</td>\n",
       "      <td>24</td>\n",
       "      <td>6</td>\n",
       "      <td>80.0000</td>\n",
       "      <td>3.0</td>\n",
       "    </tr>\n",
       "    <tr>\n",
       "      <th>2</th>\n",
       "      <td>2003</td>\n",
       "      <td>1</td>\n",
       "      <td>1328</td>\n",
       "      <td>Oklahoma</td>\n",
       "      <td>133</td>\n",
       "      <td>BIH</td>\n",
       "      <td>5</td>\n",
       "      <td>24</td>\n",
       "      <td>6</td>\n",
       "      <td>80.0000</td>\n",
       "      <td>3.0</td>\n",
       "    </tr>\n",
       "    <tr>\n",
       "      <th>3</th>\n",
       "      <td>2003</td>\n",
       "      <td>1</td>\n",
       "      <td>1328</td>\n",
       "      <td>Oklahoma</td>\n",
       "      <td>133</td>\n",
       "      <td>BOB</td>\n",
       "      <td>3</td>\n",
       "      <td>24</td>\n",
       "      <td>6</td>\n",
       "      <td>80.0000</td>\n",
       "      <td>3.0</td>\n",
       "    </tr>\n",
       "    <tr>\n",
       "      <th>4</th>\n",
       "      <td>2003</td>\n",
       "      <td>1</td>\n",
       "      <td>1328</td>\n",
       "      <td>Oklahoma</td>\n",
       "      <td>133</td>\n",
       "      <td>BRZ</td>\n",
       "      <td>7</td>\n",
       "      <td>24</td>\n",
       "      <td>6</td>\n",
       "      <td>80.0000</td>\n",
       "      <td>3.0</td>\n",
       "    </tr>\n",
       "    <tr>\n",
       "      <th>...</th>\n",
       "      <td>...</td>\n",
       "      <td>...</td>\n",
       "      <td>...</td>\n",
       "      <td>...</td>\n",
       "      <td>...</td>\n",
       "      <td>...</td>\n",
       "      <td>...</td>\n",
       "      <td>...</td>\n",
       "      <td>...</td>\n",
       "      <td>...</td>\n",
       "      <td>...</td>\n",
       "    </tr>\n",
       "    <tr>\n",
       "      <th>61434</th>\n",
       "      <td>2021</td>\n",
       "      <td>16</td>\n",
       "      <td>1216</td>\n",
       "      <td>Hartford</td>\n",
       "      <td>133</td>\n",
       "      <td>TRP</td>\n",
       "      <td>194</td>\n",
       "      <td>15</td>\n",
       "      <td>8</td>\n",
       "      <td>65.2174</td>\n",
       "      <td>0.0</td>\n",
       "    </tr>\n",
       "    <tr>\n",
       "      <th>61435</th>\n",
       "      <td>2021</td>\n",
       "      <td>16</td>\n",
       "      <td>1216</td>\n",
       "      <td>Hartford</td>\n",
       "      <td>133</td>\n",
       "      <td>WIL</td>\n",
       "      <td>190</td>\n",
       "      <td>15</td>\n",
       "      <td>8</td>\n",
       "      <td>65.2174</td>\n",
       "      <td>0.0</td>\n",
       "    </tr>\n",
       "    <tr>\n",
       "      <th>61436</th>\n",
       "      <td>2021</td>\n",
       "      <td>16</td>\n",
       "      <td>1216</td>\n",
       "      <td>Hartford</td>\n",
       "      <td>133</td>\n",
       "      <td>WLK</td>\n",
       "      <td>181</td>\n",
       "      <td>15</td>\n",
       "      <td>8</td>\n",
       "      <td>65.2174</td>\n",
       "      <td>0.0</td>\n",
       "    </tr>\n",
       "    <tr>\n",
       "      <th>61437</th>\n",
       "      <td>2021</td>\n",
       "      <td>16</td>\n",
       "      <td>1216</td>\n",
       "      <td>Hartford</td>\n",
       "      <td>133</td>\n",
       "      <td>WMV</td>\n",
       "      <td>167</td>\n",
       "      <td>15</td>\n",
       "      <td>8</td>\n",
       "      <td>65.2174</td>\n",
       "      <td>0.0</td>\n",
       "    </tr>\n",
       "    <tr>\n",
       "      <th>61438</th>\n",
       "      <td>2021</td>\n",
       "      <td>16</td>\n",
       "      <td>1216</td>\n",
       "      <td>Hartford</td>\n",
       "      <td>133</td>\n",
       "      <td>WOB</td>\n",
       "      <td>180</td>\n",
       "      <td>15</td>\n",
       "      <td>8</td>\n",
       "      <td>65.2174</td>\n",
       "      <td>0.0</td>\n",
       "    </tr>\n",
       "  </tbody>\n",
       "</table>\n",
       "<p>61439 rows × 11 columns</p>\n",
       "</div>"
      ],
      "text/plain": [
       "       Season  Seed  TeamID  TeamName  RankingDayNum SystemName  OrdinalRank  \\\n",
       "0        2003     1    1328  Oklahoma            133         AP            3   \n",
       "1        2003     1    1328  Oklahoma            133        ARG            5   \n",
       "2        2003     1    1328  Oklahoma            133        BIH            5   \n",
       "3        2003     1    1328  Oklahoma            133        BOB            3   \n",
       "4        2003     1    1328  Oklahoma            133        BRZ            7   \n",
       "...       ...   ...     ...       ...            ...        ...          ...   \n",
       "61434    2021    16    1216  Hartford            133        TRP          194   \n",
       "61435    2021    16    1216  Hartford            133        WIL          190   \n",
       "61436    2021    16    1216  Hartford            133        WLK          181   \n",
       "61437    2021    16    1216  Hartford            133        WMV          167   \n",
       "61438    2021    16    1216  Hartford            133        WOB          180   \n",
       "\n",
       "       Wins  Losses     Win%  T_Wins  \n",
       "0        24       6  80.0000     3.0  \n",
       "1        24       6  80.0000     3.0  \n",
       "2        24       6  80.0000     3.0  \n",
       "3        24       6  80.0000     3.0  \n",
       "4        24       6  80.0000     3.0  \n",
       "...     ...     ...      ...     ...  \n",
       "61434    15       8  65.2174     0.0  \n",
       "61435    15       8  65.2174     0.0  \n",
       "61436    15       8  65.2174     0.0  \n",
       "61437    15       8  65.2174     0.0  \n",
       "61438    15       8  65.2174     0.0  \n",
       "\n",
       "[61439 rows x 11 columns]"
      ]
     },
     "execution_count": 41,
     "metadata": {},
     "output_type": "execute_result"
    }
   ],
   "source": [
    "team_data"
   ]
  },
  {
   "cell_type": "code",
   "execution_count": null,
   "id": "0035625d-b4a6-4d73-97bc-6e09d5b1f6c6",
   "metadata": {},
   "outputs": [],
   "source": []
  },
  {
   "cell_type": "code",
   "execution_count": 45,
   "id": "fb793a25-0f85-4011-a3ed-3dae379f9301",
   "metadata": {},
   "outputs": [
    {
     "data": {
      "text/plain": [
       "POM    1197\n",
       "DOL    1197\n",
       "WLK    1197\n",
       "SAG    1197\n",
       "MOR    1197\n",
       "COL    1197\n",
       "BIH    1132\n",
       "WOB    1132\n",
       "WOL    1130\n",
       "RTH    1130\n",
       "SEL    1067\n",
       "CNG    1065\n",
       "RPI    1062\n",
       "WIL    1002\n",
       "DOK    1002\n",
       "MAS     937\n",
       "PIG     935\n",
       "DUN     932\n",
       "BOB     926\n",
       "KRA     872\n",
       "REW     872\n",
       "PGH     872\n",
       "Name: SystemName, dtype: int64"
      ]
     },
     "execution_count": 45,
     "metadata": {},
     "output_type": "execute_result"
    }
   ],
   "source": [
    "team_data['SystemName'].value_counts().head(22)"
   ]
  },
  {
   "cell_type": "code",
   "execution_count": null,
   "id": "3da86275-c2d0-45c9-96f6-8daf4045f62b",
   "metadata": {},
   "outputs": [],
   "source": []
  },
  {
   "cell_type": "code",
   "execution_count": null,
   "id": "97cc8d55-e43f-4748-8c94-1788488c36ca",
   "metadata": {},
   "outputs": [],
   "source": []
  },
  {
   "cell_type": "code",
   "execution_count": null,
   "id": "199d246e-6e62-4040-bd4e-bf4d043d7b44",
   "metadata": {},
   "outputs": [],
   "source": []
  },
  {
   "cell_type": "code",
   "execution_count": null,
   "id": "aad70cbd-8dc7-4781-89eb-7265d521380c",
   "metadata": {},
   "outputs": [],
   "source": []
  },
  {
   "cell_type": "code",
   "execution_count": null,
   "id": "b495d73c-cd3c-4330-bc92-2ce56d2e4bc5",
   "metadata": {},
   "outputs": [],
   "source": []
  },
  {
   "cell_type": "code",
   "execution_count": null,
   "id": "a3753873-6593-482f-8e9e-ab6cfee01504",
   "metadata": {},
   "outputs": [],
   "source": []
  },
  {
   "cell_type": "code",
   "execution_count": null,
   "id": "e34e0279-b1bb-43bc-9b40-e7ad847f6313",
   "metadata": {},
   "outputs": [],
   "source": []
  },
  {
   "cell_type": "code",
   "execution_count": null,
   "id": "f9d23496-353c-4205-9b20-72320dae195f",
   "metadata": {},
   "outputs": [],
   "source": []
  },
  {
   "cell_type": "code",
   "execution_count": null,
   "id": "46ca9a68-92c7-47c5-aa6a-0dca244aa2c6",
   "metadata": {},
   "outputs": [],
   "source": []
  },
  {
   "cell_type": "code",
   "execution_count": null,
   "id": "5861daf0-4ea1-402f-a112-c30d5c02891e",
   "metadata": {},
   "outputs": [],
   "source": []
  },
  {
   "cell_type": "code",
   "execution_count": null,
   "id": "a2095df5-d748-4630-95e6-1a2e6cfb56a1",
   "metadata": {},
   "outputs": [],
   "source": []
  },
  {
   "cell_type": "code",
   "execution_count": null,
   "id": "41d1b837-3523-49b8-9a52-e0cc8c1f4c4f",
   "metadata": {},
   "outputs": [],
   "source": []
  },
  {
   "cell_type": "markdown",
   "id": "4985ff23-7837-4698-a685-d5a8c579d27a",
   "metadata": {},
   "source": [
    "\n"
   ]
  },
  {
   "cell_type": "code",
   "execution_count": null,
   "id": "9190b093-29c2-462e-b57c-7a942e413d83",
   "metadata": {},
   "outputs": [],
   "source": []
  },
  {
   "cell_type": "code",
   "execution_count": null,
   "id": "28b3a7b9-7a09-4a70-86c8-87196cb3dbda",
   "metadata": {},
   "outputs": [],
   "source": []
  },
  {
   "cell_type": "code",
   "execution_count": null,
   "id": "ed5564e5-02cc-4303-9513-99772a43a7be",
   "metadata": {},
   "outputs": [],
   "source": []
  },
  {
   "cell_type": "code",
   "execution_count": null,
   "id": "c6977923-be3b-4126-b95c-b96f56bac552",
   "metadata": {},
   "outputs": [],
   "source": []
  },
  {
   "cell_type": "code",
   "execution_count": null,
   "id": "edb75307-3fb8-405f-99d0-1b5e58621a7a",
   "metadata": {},
   "outputs": [],
   "source": []
  },
  {
   "cell_type": "code",
   "execution_count": null,
   "id": "3c45975c-2eca-4b17-a26f-f89976143567",
   "metadata": {},
   "outputs": [],
   "source": []
  },
  {
   "cell_type": "code",
   "execution_count": null,
   "id": "c74afcea-9b98-4e20-979d-a3d96b98ab30",
   "metadata": {},
   "outputs": [],
   "source": []
  },
  {
   "cell_type": "code",
   "execution_count": null,
   "id": "80d85bbe-3b71-4d36-a4ef-fc996c435f43",
   "metadata": {},
   "outputs": [],
   "source": []
  },
  {
   "cell_type": "code",
   "execution_count": null,
   "id": "2862724b-d9be-4e2d-9958-e323645e3879",
   "metadata": {},
   "outputs": [],
   "source": []
  },
  {
   "cell_type": "code",
   "execution_count": null,
   "id": "624cc198-f4a3-4eb8-a2a6-09da2d0403a3",
   "metadata": {},
   "outputs": [],
   "source": []
  },
  {
   "cell_type": "code",
   "execution_count": null,
   "id": "7ae767d0-72aa-4b0c-984f-7f5a381a1fb8",
   "metadata": {},
   "outputs": [],
   "source": []
  },
  {
   "cell_type": "code",
   "execution_count": null,
   "id": "f19d8aee-30fa-43fe-81be-5f07e94c722d",
   "metadata": {},
   "outputs": [],
   "source": []
  },
  {
   "cell_type": "code",
   "execution_count": null,
   "id": "6252f5cc-58c3-4034-b4c1-5221a86e8fe3",
   "metadata": {},
   "outputs": [],
   "source": []
  },
  {
   "cell_type": "code",
   "execution_count": null,
   "id": "a67406c4-d9fa-43a1-9ac7-13f7dafd27cf",
   "metadata": {},
   "outputs": [],
   "source": []
  }
 ],
 "metadata": {
  "kernelspec": {
   "display_name": "Python 3",
   "language": "python",
   "name": "python3"
  },
  "language_info": {
   "codemirror_mode": {
    "name": "ipython",
    "version": 3
   },
   "file_extension": ".py",
   "mimetype": "text/x-python",
   "name": "python",
   "nbconvert_exporter": "python",
   "pygments_lexer": "ipython3",
   "version": "3.8.8"
  }
 },
 "nbformat": 4,
 "nbformat_minor": 5
}
